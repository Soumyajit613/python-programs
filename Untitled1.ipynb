{
  "nbformat": 4,
  "nbformat_minor": 0,
  "metadata": {
    "colab": {
      "provenance": []
    },
    "kernelspec": {
      "name": "python3",
      "display_name": "Python 3"
    },
    "language_info": {
      "name": "python"
    }
  },
  "cells": [
    {
      "cell_type": "markdown",
      "source": [
        "**1. Printing Python Keywords**"
      ],
      "metadata": {
        "id": "eJc87MnUMEcx"
      }
    },
    {
      "cell_type": "code",
      "execution_count": 1,
      "metadata": {
        "colab": {
          "base_uri": "https://localhost:8080/"
        },
        "id": "xLl_UzHPK5Z4",
        "outputId": "4ba6d93d-3fb2-4628-f6c0-575b3a094f08"
      },
      "outputs": [
        {
          "output_type": "stream",
          "name": "stdout",
          "text": [
            "['False', 'None', 'True', 'and', 'as', 'assert', 'async', 'await', 'break', 'class', 'continue', 'def', 'del', 'elif', 'else', 'except', 'finally', 'for', 'from', 'global', 'if', 'import', 'in', 'is', 'lambda', 'nonlocal', 'not', 'or', 'pass', 'raise', 'return', 'try', 'while', 'with', 'yield']\n",
            "35\n"
          ]
        }
      ],
      "source": [
        "import keyword\n",
        "print(keyword.kwlist)\n",
        "a = len(keyword.kwlist)\n",
        "print(a)\n"
      ]
    },
    {
      "cell_type": "markdown",
      "source": [
        "**2 List Operations Creating Lists**"
      ],
      "metadata": {
        "id": "EGjGK_raMQ-R"
      }
    },
    {
      "cell_type": "code",
      "source": [
        "a = [1, 2, 3, 4, 5]\n",
        "b = [2.4, 7.0, 6.8]\n",
        "c = ['hello', 'students']\n",
        "print(a)\n",
        "print(b)\n",
        "print(c)\n"
      ],
      "metadata": {
        "colab": {
          "base_uri": "https://localhost:8080/"
        },
        "id": "k3M65mQ1MSA5",
        "outputId": "305f9b80-c693-43b3-a9f9-8f9632dda53e"
      },
      "execution_count": 2,
      "outputs": [
        {
          "output_type": "stream",
          "name": "stdout",
          "text": [
            "[1, 2, 3, 4, 5]\n",
            "[2.4, 7.0, 6.8]\n",
            "['hello', 'students']\n"
          ]
        }
      ]
    },
    {
      "cell_type": "markdown",
      "source": [
        "**List Slicing and Indexing**"
      ],
      "metadata": {
        "id": "qj9tcMrxMhGw"
      }
    },
    {
      "cell_type": "code",
      "source": [
        "days = ['monday', 'tuesday', 'wednesday', 'thursday', 'friday', 'saturday', 'sunday']\n",
        "print(days[1])\n",
        "print(days[-1])\n",
        "print(days[:])\n",
        "print(days[1:4])\n",
        "print(days[1:4:2])\n"
      ],
      "metadata": {
        "colab": {
          "base_uri": "https://localhost:8080/"
        },
        "id": "caxiRqEsMpcp",
        "outputId": "20f2c4aa-db66-4483-b673-1f3a65afa1a9"
      },
      "execution_count": 3,
      "outputs": [
        {
          "output_type": "stream",
          "name": "stdout",
          "text": [
            "tuesday\n",
            "sunday\n",
            "['monday', 'tuesday', 'wednesday', 'thursday', 'friday', 'saturday', 'sunday']\n",
            "['tuesday', 'wednesday', 'thursday']\n",
            "['tuesday', 'thursday']\n"
          ]
        }
      ]
    },
    {
      "cell_type": "markdown",
      "source": [
        "**List Methods**"
      ],
      "metadata": {
        "id": "KKO1HuAGMsKw"
      }
    },
    {
      "cell_type": "code",
      "source": [
        "days = ['monday', 'tuesday', 'wednesday', 'thursday', 'friday', 'saturday', 'sunday']\n",
        "print(len(days))\n",
        "numbers = [1, 2, 3, 4, 5, 6, 7, 8]\n",
        "print(max(numbers))\n",
        "print(min(numbers))\n",
        "print(sum(numbers))\n",
        "\n",
        "import random\n",
        "random.shuffle(numbers)\n",
        "print(numbers)\n"
      ],
      "metadata": {
        "colab": {
          "base_uri": "https://localhost:8080/"
        },
        "id": "q7Yuke2OMtKY",
        "outputId": "6fe46548-e4b4-4718-976e-6873799df0a9"
      },
      "execution_count": 4,
      "outputs": [
        {
          "output_type": "stream",
          "name": "stdout",
          "text": [
            "7\n",
            "8\n",
            "1\n",
            "36\n",
            "[2, 4, 8, 7, 6, 1, 5, 3]\n"
          ]
        }
      ]
    },
    {
      "cell_type": "markdown",
      "source": [
        "**List Operators**"
      ],
      "metadata": {
        "id": "hYxNaa8nM1og"
      }
    },
    {
      "cell_type": "code",
      "source": [
        "a = [1, 2, 3]\n",
        "b = [4, 5, 6]\n",
        "c = a + b\n",
        "print(c)\n",
        "b = 3 * a\n",
        "print(b)\n",
        "print('wednesday' in days)\n",
        "print('wednesday' not in days)\n"
      ],
      "metadata": {
        "colab": {
          "base_uri": "https://localhost:8080/"
        },
        "id": "mvKy9wDsM35A",
        "outputId": "cf7055ed-7f29-4f97-ab1d-aea7eb0d02ba"
      },
      "execution_count": 5,
      "outputs": [
        {
          "output_type": "stream",
          "name": "stdout",
          "text": [
            "[1, 2, 3, 4, 5, 6]\n",
            "[1, 2, 3, 1, 2, 3, 1, 2, 3]\n",
            "True\n",
            "False\n"
          ]
        }
      ]
    },
    {
      "cell_type": "markdown",
      "source": [
        "3. Tuple Operations\n",
        "Creating Tuples **bold text**"
      ],
      "metadata": {
        "id": "ULTH40PuM7dA"
      }
    },
    {
      "cell_type": "code",
      "source": [
        "a = (5,)\n",
        "print(a)\n",
        "print(type(a))\n",
        "\n",
        "a = (1, 2, 3, 4, 5)\n",
        "b = (6.5, 5.9, 2.0)\n",
        "c = ('one', 'two', 'three')\n",
        "mix = ('hello', 708, 66.8, 1, 2)\n",
        "\n",
        "print(a)\n",
        "print(b)\n",
        "print(c)\n",
        "print(mix)\n"
      ],
      "metadata": {
        "colab": {
          "base_uri": "https://localhost:8080/"
        },
        "id": "JAkpa-P6NYoZ",
        "outputId": "addfa89f-b8dd-4f86-e6c5-28ae23432b6c"
      },
      "execution_count": 6,
      "outputs": [
        {
          "output_type": "stream",
          "name": "stdout",
          "text": [
            "(5,)\n",
            "<class 'tuple'>\n",
            "(1, 2, 3, 4, 5)\n",
            "(6.5, 5.9, 2.0)\n",
            "('one', 'two', 'three')\n",
            "('hello', 708, 66.8, 1, 2)\n"
          ]
        }
      ]
    },
    {
      "cell_type": "markdown",
      "source": [
        "Accessing Tuple"
      ],
      "metadata": {
        "id": "hT4QmgD8NdYw"
      }
    },
    {
      "cell_type": "code",
      "source": [
        "a = (1, 2, 3, 4, 'hello')\n",
        "print(a[4])\n"
      ],
      "metadata": {
        "colab": {
          "base_uri": "https://localhost:8080/"
        },
        "id": "w4it05KaNeVB",
        "outputId": "4659ea46-b116-40f2-ae1c-ffd83c3084dd"
      },
      "execution_count": 7,
      "outputs": [
        {
          "output_type": "stream",
          "name": "stdout",
          "text": [
            "hello\n"
          ]
        }
      ]
    },
    {
      "cell_type": "markdown",
      "source": [
        "4. Dictionary Operations\n",
        "Creating and Accessing Dictionaries"
      ],
      "metadata": {
        "id": "zSDo6HRpNwCx"
      }
    },
    {
      "cell_type": "code",
      "source": [
        "a = {\n",
        "    'name': 'joy',\n",
        "    'age': 23,\n",
        "    'education': 'Engineer'\n",
        "}\n",
        "print(a)\n",
        "print(len(a))\n",
        "print(type(a))\n",
        "print(a.keys())\n",
        "print(a.values())\n"
      ],
      "metadata": {
        "colab": {
          "base_uri": "https://localhost:8080/"
        },
        "id": "y7_1qR5aNxMR",
        "outputId": "6698435e-3e12-4443-9780-c269de59ac41"
      },
      "execution_count": 8,
      "outputs": [
        {
          "output_type": "stream",
          "name": "stdout",
          "text": [
            "{'name': 'joy', 'age': 23, 'education': 'Engineer'}\n",
            "3\n",
            "<class 'dict'>\n",
            "dict_keys(['name', 'age', 'education'])\n",
            "dict_values(['joy', 23, 'Engineer'])\n"
          ]
        }
      ]
    },
    {
      "cell_type": "markdown",
      "source": [
        "5. Set Operations\n",
        "Creating and Modifying Sets"
      ],
      "metadata": {
        "id": "cg3Xsq9QN4Rk"
      }
    },
    {
      "cell_type": "code",
      "source": [
        "set1 = {1, 2, 3, 4}\n",
        "print(set1)\n",
        "\n",
        "set2 = {1, 2, 3, 4, 5, 6, 7}\n",
        "print(set2)\n",
        "\n",
        "\n",
        "set3 = {1, 2, 3, 4, 5, 6, 7, 1, 1}\n",
        "print(set3)\n"
      ],
      "metadata": {
        "colab": {
          "base_uri": "https://localhost:8080/"
        },
        "id": "T1Lx2XNON4_s",
        "outputId": "2a671e26-d376-4362-d0fb-2b250d56acaa"
      },
      "execution_count": 9,
      "outputs": [
        {
          "output_type": "stream",
          "name": "stdout",
          "text": [
            "{1, 2, 3, 4}\n",
            "{1, 2, 3, 4, 5, 6, 7}\n",
            "{1, 2, 3, 4, 5, 6, 7}\n"
          ]
        }
      ]
    },
    {
      "cell_type": "markdown",
      "source": [
        "6.Functions in Python\n",
        "Built-in Functions"
      ],
      "metadata": {
        "id": "xk2P-yBMN-9W"
      }
    },
    {
      "cell_type": "code",
      "source": [
        "print(max([1, 2, 3]))\n",
        "print(min([1, 2, 3]))\n",
        "print(sum([1, 2, 3]))\n",
        "print(print('Hello, World!'))\n"
      ],
      "metadata": {
        "colab": {
          "base_uri": "https://localhost:8080/"
        },
        "id": "U68Ah9idOJH4",
        "outputId": "6928a09f-6ead-4599-fd86-c9ed0d791f7b"
      },
      "execution_count": 10,
      "outputs": [
        {
          "output_type": "stream",
          "name": "stdout",
          "text": [
            "3\n",
            "1\n",
            "6\n",
            "Hello, World!\n",
            "None\n"
          ]
        }
      ]
    },
    {
      "cell_type": "markdown",
      "source": [
        "**User-defined Function**"
      ],
      "metadata": {
        "id": "nAZ6LyYHOPFZ"
      }
    },
    {
      "cell_type": "code",
      "source": [
        "def add():\n",
        "    a = 2\n",
        "    b = 3\n",
        "    sum = a + b\n",
        "    return sum\n",
        "\n",
        "print(add())\n"
      ],
      "metadata": {
        "colab": {
          "base_uri": "https://localhost:8080/"
        },
        "id": "CTOUGf0sOP4w",
        "outputId": "8599b6da-09ed-4206-ac7d-74a989e80c60"
      },
      "execution_count": 11,
      "outputs": [
        {
          "output_type": "stream",
          "name": "stdout",
          "text": [
            "5\n"
          ]
        }
      ]
    },
    {
      "cell_type": "markdown",
      "source": [
        "**Anonymous Function (Lambda)**\n",
        "\n"
      ],
      "metadata": {
        "id": "ZMQykul0OUtJ"
      }
    },
    {
      "cell_type": "code",
      "source": [
        "add = lambda x, y: x + y\n",
        "print(add(2, 3))\n"
      ],
      "metadata": {
        "colab": {
          "base_uri": "https://localhost:8080/"
        },
        "id": "0klBCxF5OVRB",
        "outputId": "dbb91c58-293d-466f-e93d-18d4f5dbe584"
      },
      "execution_count": 12,
      "outputs": [
        {
          "output_type": "stream",
          "name": "stdout",
          "text": [
            "5\n"
          ]
        }
      ]
    },
    {
      "cell_type": "markdown",
      "source": [
        "**7. Function Modularity Example**"
      ],
      "metadata": {
        "id": "LYvvvxjLOaWB"
      }
    },
    {
      "cell_type": "code",
      "source": [
        "def collectdata():\n",
        "    'function to collect data'\n",
        "    pass\n",
        "\n",
        "def cleandata():\n",
        "    'function to clean data'\n",
        "    pass\n",
        "\n",
        "def processdata():\n",
        "    'function to pre-process the data'\n",
        "    pass\n",
        "\n",
        "def exploredata():\n",
        "    'function to explore data'\n",
        "    pass\n",
        "\n",
        "def visualization():\n",
        "    'function to visualize data'\n",
        "    pass\n",
        "\n",
        "\n",
        "collectdata()\n",
        "cleandata()\n",
        "processdata()\n",
        "exploredata()\n",
        "visualization()\n"
      ],
      "metadata": {
        "id": "wCSgCWxpObBQ"
      },
      "execution_count": 13,
      "outputs": []
    }
  ]
}