{
  "nbformat": 4,
  "nbformat_minor": 0,
  "metadata": {
    "colab": {
      "provenance": []
    },
    "kernelspec": {
      "name": "python3",
      "display_name": "Python 3"
    },
    "language_info": {
      "name": "python"
    }
  },
  "cells": [
    {
      "cell_type": "code",
      "execution_count": 1,
      "metadata": {
        "colab": {
          "base_uri": "https://localhost:8080/"
        },
        "id": "tQNIqd81Pha8",
        "outputId": "afbd4c7d-e030-46b6-f4d6-5b00edc64e76"
      },
      "outputs": [
        {
          "output_type": "stream",
          "name": "stdout",
          "text": [
            "Alice\n",
            "30\n"
          ]
        }
      ],
      "source": [
        "class Person:\n",
        "    def __init__(self, name, age):\n",
        "        self.name = name\n",
        "        self.age = age\n",
        "\n",
        "person1 = Person(\"Alice\", 30)\n",
        "print(person1.name)\n",
        "print(person1.age)"
      ]
    },
    {
      "cell_type": "code",
      "source": [
        "class Car:\n",
        "    def __init__(self, make, model, year=2020):\n",
        "        self.make = make\n",
        "        self.model = model\n",
        "        self.year = year\n",
        "\n",
        "car1 = Car(\"Toyota\", \"Corolla\")\n",
        "print(car1.year)\n",
        "\n",
        "car2 = Car(\"Ford\", \"Mustang\", 2024)\n",
        "print(car2.year)\n"
      ],
      "metadata": {
        "colab": {
          "base_uri": "https://localhost:8080/"
        },
        "id": "wcRzmWhIjjwe",
        "outputId": "57ee869d-d9c4-46bf-9293-41d0f7aa87ff"
      },
      "execution_count": 2,
      "outputs": [
        {
          "output_type": "stream",
          "name": "stdout",
          "text": [
            "2020\n",
            "2024\n"
          ]
        }
      ]
    },
    {
      "cell_type": "code",
      "source": [
        "class Employee:\n",
        "    company_name = \"TechCorp\"\n",
        "\n",
        "    def __init__(self, name, position):\n",
        "        self.name = name\n",
        "        self.position = position\n",
        "\n",
        "emp1 = Employee(\"John\", \"Developer\")\n",
        "print(emp1.company_name)\n"
      ],
      "metadata": {
        "colab": {
          "base_uri": "https://localhost:8080/"
        },
        "id": "VxHlSQqljouv",
        "outputId": "c3dc1316-faf9-44e5-919d-2b8f9cb89f73"
      },
      "execution_count": 3,
      "outputs": [
        {
          "output_type": "stream",
          "name": "stdout",
          "text": [
            "TechCorp\n"
          ]
        }
      ]
    },
    {
      "cell_type": "code",
      "source": [
        "class Rectangle:\n",
        "    def __init__(self, width, height):\n",
        "        self.width = width\n",
        "        self.height = height\n",
        "\n",
        "    @classmethod\n",
        "    def square(cls, side_length):\n",
        "        return cls(side_length, side_length)\n",
        "\n",
        "rect1 = Rectangle(10, 20)\n",
        "rect2 = Rectangle.square(10)\n",
        "print(rect1.width, rect1.height)\n",
        "print(rect2.width, rect2.height)\n"
      ],
      "metadata": {
        "colab": {
          "base_uri": "https://localhost:8080/"
        },
        "id": "PI3P55DjkAEv",
        "outputId": "d8919664-80f1-485b-f8ff-d4e25057dc63"
      },
      "execution_count": 4,
      "outputs": [
        {
          "output_type": "stream",
          "name": "stdout",
          "text": [
            "10 20\n",
            "10 10\n"
          ]
        }
      ]
    },
    {
      "cell_type": "code",
      "source": [
        "class Account:\n",
        "    def __init__(self, account_number, balance):\n",
        "        if balance < 0:\n",
        "            raise ValueError(\"Balance cannot be negative\")\n",
        "        self.account_number = account_number\n",
        "        self.balance = balance\n",
        "\n",
        "acc = Account(\"123456\", 1000)\n",
        "print(acc.balance)\n"
      ],
      "metadata": {
        "colab": {
          "base_uri": "https://localhost:8080/"
        },
        "id": "zB_hNfGKkDPX",
        "outputId": "fd1def74-63e2-4082-e858-f12280179048"
      },
      "execution_count": 5,
      "outputs": [
        {
          "output_type": "stream",
          "name": "stdout",
          "text": [
            "1000\n"
          ]
        }
      ]
    },
    {
      "cell_type": "code",
      "source": [
        "class Circle:\n",
        "    def __init__(self, radius):\n",
        "        self.radius = radius\n",
        "        self.diameter = 2 * radius\n",
        "        self.circumference = 2 * 3.14 * radius\n",
        "\n",
        "circle = Circle(5)\n",
        "print(circle.diameter)\n",
        "print(circle.circumference)\n"
      ],
      "metadata": {
        "colab": {
          "base_uri": "https://localhost:8080/"
        },
        "id": "ey4zMJzJkGvu",
        "outputId": "5c27770e-d92f-42f5-d487-aedcd5611da0"
      },
      "execution_count": 8,
      "outputs": [
        {
          "output_type": "stream",
          "name": "stdout",
          "text": [
            "10\n",
            "31.400000000000002\n"
          ]
        }
      ]
    },
    {
      "cell_type": "code",
      "source": [
        "class Student:\n",
        "    def __init__(self, *args, **kwargs):\n",
        "        self.name = args[0] if len(args) > 0 else \"Unknown\"\n",
        "        self.age = kwargs.get('age', 0)\n",
        "\n",
        "student1 = Student(\"Emma\", age=22)\n",
        "print(student1.name)\n",
        "print(student1.age)\n",
        "\n",
        "student2 = Student()\n",
        "print(student2.name)\n",
        "print(student2.age)\n"
      ],
      "metadata": {
        "colab": {
          "base_uri": "https://localhost:8080/"
        },
        "id": "tb3d4_ickYbO",
        "outputId": "e11e3cca-fa24-4489-d3fa-8ba7833baa4d"
      },
      "execution_count": 9,
      "outputs": [
        {
          "output_type": "stream",
          "name": "stdout",
          "text": [
            "Emma\n",
            "22\n",
            "Unknown\n",
            "0\n"
          ]
        }
      ]
    },
    {
      "cell_type": "code",
      "source": [
        "class Address:\n",
        "    def __init__(self, street, city):\n",
        "        self.street = street\n",
        "        self.city = city\n",
        "\n",
        "class Person:\n",
        "    def __init__(self, name, address):\n",
        "        self.name = name\n",
        "        self.address = address\n",
        "\n",
        "addr = Address(\"123 Main St\", \"Springfield\")\n",
        "person = Person(\"Jake\", addr)\n",
        "print(person.address.city)\n"
      ],
      "metadata": {
        "colab": {
          "base_uri": "https://localhost:8080/"
        },
        "id": "HWOjI7WukzMV",
        "outputId": "81d33c21-3ba6-4307-fb17-ac7199dc785c"
      },
      "execution_count": 10,
      "outputs": [
        {
          "output_type": "stream",
          "name": "stdout",
          "text": [
            "Springfield\n"
          ]
        }
      ]
    },
    {
      "cell_type": "code",
      "source": [
        "class DynamicObject:\n",
        "    def __init__(self, **kwargs):\n",
        "        for key, value in kwargs.items():\n",
        "            setattr(self, key, value)\n",
        "\n",
        "obj = DynamicObject(name=\"Sam\", age=29, job=\"Engineer\")\n",
        "print(obj.name)\n",
        "print(obj.age)\n",
        "print(obj.job)\n"
      ],
      "metadata": {
        "colab": {
          "base_uri": "https://localhost:8080/"
        },
        "id": "EjJckAWCk3tN",
        "outputId": "fb183be1-da70-429b-c398-bbc086af4ba1"
      },
      "execution_count": 11,
      "outputs": [
        {
          "output_type": "stream",
          "name": "stdout",
          "text": [
            "Sam\n",
            "29\n",
            "Engineer\n"
          ]
        }
      ]
    },
    {
      "cell_type": "code",
      "source": [
        "class Book:\n",
        "    def __init__(self, title, author, year=None):\n",
        "        self.title = title\n",
        "        self.author = author\n",
        "        self.year = year\n",
        "\n",
        "book1 = Book(\"1984\", \"George Orwell\", 1949)\n",
        "book2 = Book(\"To Kill a Mockingbird\", \"Harper Lee\")\n",
        "print(book1.year)\n",
        "print(book2.year)\n"
      ],
      "metadata": {
        "colab": {
          "base_uri": "https://localhost:8080/"
        },
        "id": "VXWnwjqWk-Xm",
        "outputId": "76a8fc98-f0ca-4666-9546-24028137d617"
      },
      "execution_count": 12,
      "outputs": [
        {
          "output_type": "stream",
          "name": "stdout",
          "text": [
            "1949\n",
            "None\n"
          ]
        }
      ]
    },
    {
      "cell_type": "code",
      "source": [
        "class Person:\n",
        "    def __init__(self, name):\n",
        "        self.name = name\n",
        "        self.greet()\n",
        "\n",
        "    def greet(self):\n",
        "        print(f\"Hello, my name is {self.name}\")\n",
        "\n",
        "p = Person(\"Alice\")\n"
      ],
      "metadata": {
        "colab": {
          "base_uri": "https://localhost:8080/"
        },
        "id": "0hdUn9tLlAp2",
        "outputId": "c09976d0-b20a-495b-9d19-f89fd9204cf1"
      },
      "execution_count": 13,
      "outputs": [
        {
          "output_type": "stream",
          "name": "stdout",
          "text": [
            "Hello, my name is Alice\n"
          ]
        }
      ]
    },
    {
      "cell_type": "code",
      "source": [
        "class Team:\n",
        "    def __init__(self, members):\n",
        "        self.members = members\n",
        "\n",
        "team = Team([\"Alice\", \"Bob\", \"Charlie\"])\n",
        "print(team.members)\n"
      ],
      "metadata": {
        "colab": {
          "base_uri": "https://localhost:8080/"
        },
        "id": "xBqiLIm5lDQm",
        "outputId": "26c966b6-12ef-46ff-ee9e-862dd6959e0a"
      },
      "execution_count": 14,
      "outputs": [
        {
          "output_type": "stream",
          "name": "stdout",
          "text": [
            "['Alice', 'Bob', 'Charlie']\n"
          ]
        }
      ]
    },
    {
      "cell_type": "code",
      "source": [
        "class Temperature:\n",
        "    def __init__(self, celsius):\n",
        "        self.celsius = celsius\n",
        "\n",
        "    @classmethod\n",
        "    def from_fahrenheit(cls, fahrenheit):\n",
        "        celsius = (fahrenheit - 32) * 5 / 9\n",
        "        return cls(celsius)\n",
        "\n",
        "temp = Temperature.from_fahrenheit(100)\n",
        "print(temp.celsius)\n"
      ],
      "metadata": {
        "colab": {
          "base_uri": "https://localhost:8080/"
        },
        "id": "9vGCgvIDlGle",
        "outputId": "77559032-1799-4540-de1a-4730408d3ade"
      },
      "execution_count": 15,
      "outputs": [
        {
          "output_type": "stream",
          "name": "stdout",
          "text": [
            "37.77777777777778\n"
          ]
        }
      ]
    },
    {
      "cell_type": "code",
      "source": [
        "class Config:\n",
        "    def __init__(self, settings):\n",
        "        self.settings = settings\n",
        "\n",
        "config = Config({'host': 'localhost', 'port': 8080})\n",
        "print(config.settings)\n"
      ],
      "metadata": {
        "colab": {
          "base_uri": "https://localhost:8080/"
        },
        "id": "sDxOz9X_lKHm",
        "outputId": "64f6f060-87d1-4d55-fa18-50c471024a7f"
      },
      "execution_count": 16,
      "outputs": [
        {
          "output_type": "stream",
          "name": "stdout",
          "text": [
            "{'host': 'localhost', 'port': 8080}\n"
          ]
        }
      ]
    },
    {
      "cell_type": "code",
      "source": [
        "class Animal:\n",
        "    def __init__(self, species):\n",
        "        self.species = species\n",
        "\n",
        "class Dog(Animal):\n",
        "    def __init__(self, name):\n",
        "        super().__init__('Dog')\n",
        "        self.name = name\n",
        "\n",
        "dog = Dog(\"Buddy\")\n",
        "print(dog.species)\n",
        "print(dog.name)\n"
      ],
      "metadata": {
        "colab": {
          "base_uri": "https://localhost:8080/"
        },
        "id": "ClzTevKelL7e",
        "outputId": "413b0c4b-3d18-4de6-848f-6fa30e3f7b25"
      },
      "execution_count": 17,
      "outputs": [
        {
          "output_type": "stream",
          "name": "stdout",
          "text": [
            "Dog\n",
            "Buddy\n"
          ]
        }
      ]
    },
    {
      "cell_type": "code",
      "source": [
        "class MultiData:\n",
        "    def __init__(self, integer, string, list_of_values):\n",
        "        self.integer = integer\n",
        "        self.string = string\n",
        "        self.list_of_values = list_of_values\n",
        "\n",
        "data = MultiData(42, \"Hello\", [1, 2, 3])\n",
        "print(data.integer)\n",
        "print(data.string)\n",
        "print(data.list_of_values)\n"
      ],
      "metadata": {
        "colab": {
          "base_uri": "https://localhost:8080/"
        },
        "id": "N6rg6wHplQn0",
        "outputId": "8f02c34a-540f-4a6f-bfca-7f068edfc5b7"
      },
      "execution_count": 18,
      "outputs": [
        {
          "output_type": "stream",
          "name": "stdout",
          "text": [
            "42\n",
            "Hello\n",
            "[1, 2, 3]\n"
          ]
        }
      ]
    },
    {
      "cell_type": "code",
      "source": [
        "class Account:\n",
        "    def __init__(self, account_number, balance=None):\n",
        "        self.account_number = account_number\n",
        "        self.balance = balance if balance is not None else 0\n",
        "\n",
        "acc1 = Account(\"123456\")\n",
        "acc2 = Account(\"789012\", 500)\n",
        "print(acc1.balance)\n",
        "print(acc2.balance)\n"
      ],
      "metadata": {
        "colab": {
          "base_uri": "https://localhost:8080/"
        },
        "id": "Zv3AlQbvlSj-",
        "outputId": "4f0d1712-3236-47d1-c8e0-7bf5a3585cda"
      },
      "execution_count": 19,
      "outputs": [
        {
          "output_type": "stream",
          "name": "stdout",
          "text": [
            "0\n",
            "500\n"
          ]
        }
      ]
    },
    {
      "cell_type": "code",
      "source": [
        "class Logger:\n",
        "    def log(self, message):\n",
        "        print(f\"Log: {message}\")\n",
        "\n",
        "class Service:\n",
        "    def __init__(self, logger=None):\n",
        "        self.logger = logger or Logger()\n",
        "\n",
        "service = Service()\n",
        "service.logger.log(\"Service started\")\n"
      ],
      "metadata": {
        "colab": {
          "base_uri": "https://localhost:8080/"
        },
        "id": "49PI77-FlU_W",
        "outputId": "cdc10527-0251-4898-c95b-e092d12d07cd"
      },
      "execution_count": 20,
      "outputs": [
        {
          "output_type": "stream",
          "name": "stdout",
          "text": [
            "Log: Service started\n"
          ]
        }
      ]
    },
    {
      "cell_type": "code",
      "source": [
        "class TreeNode:\n",
        "    def __init__(self, value, left=None, right=None):\n",
        "        self.value = value\n",
        "        self.left = left\n",
        "        self.right = right\n",
        "\n",
        "root = TreeNode(1, TreeNode(2), TreeNode(3))\n",
        "print(root.value)\n",
        "print(root.left.value)\n",
        "print(root.right.value)\n"
      ],
      "metadata": {
        "id": "lNogUxNLlW-G",
        "outputId": "e2c2a9ce-ea4a-42bc-bacf-52fbba8d7c45",
        "colab": {
          "base_uri": "https://localhost:8080/"
        }
      },
      "execution_count": 21,
      "outputs": [
        {
          "output_type": "stream",
          "name": "stdout",
          "text": [
            "1\n",
            "2\n",
            "3\n"
          ]
        }
      ]
    }
  ]
}